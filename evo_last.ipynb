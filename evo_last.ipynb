import os
import numpy as np
import matplotlib.pyplot as plt
from scipy.ndimage import label

def generate_landscape(grid_size=(50, 50), terrain_types=5):
    """生成隨機地形 (2D grid)。"""
    return np.random.randint(0, terrain_types, size=grid_size)

def visualize_landscape(landscape, filename):
    """視覺化並存檔。"""
    plt.figure(figsize=(6, 6))
    plt.imshow(landscape, cmap='terrain', origin='upper')
    plt.colorbar(label="Terrain Type")
    plt.axis('off')
    plt.savefig(filename, bbox_inches='tight')
    plt.close()

def calculate_region_match(landscape, region_coords, target_terrain):
    """
    計算指定區域中，目標地形 (target_terrain) 的覆蓋比例。
    region_coords = (row_start, row_end, col_start, col_end)
    """
    region = landscape[region_coords[0]:region_coords[1], region_coords[2]:region_coords[3]]
    match_score = np.sum(region == target_terrain) / region.size
    return match_score

def calculate_river_connectivity(landscape, river_type=0, min_length=7):
    """
    檢查是否存在任意一個連通的河流，其長度(像素數量)超過 min_length。
    回傳值:
      1.0 若有任意河流區塊 >= min_length
      0.0 否則
    """
    labeled_array, num_features = label(landscape == river_type)
    if num_features == 0:
        return 0.0  # 沒有任何河流像素
    
    # 計算各個連通區的大小
    sizes = np.bincount(labeled_array.ravel())[1:]  # 第0個是背景(不使用)
    # 如果有任何一個區塊的大小 >= min_length
    has_long_river = np.any(sizes >= min_length)
    return 1.0 if has_long_river else 0.0

def fitness_function(landscape, terrain_types=5):
    """
    綜合適應度函數:
    1) 北部是否為雪山 (type=4)
    2) 南部是否為草原 (type=1)
    3) 是否有長度 >= 7 的河流 (type=0)
    """
    rows, cols = landscape.shape

    # 1) 北部雪山評分
    north_region_coords = (0, rows // 3, 0, cols)
    north_match_score = calculate_region_match(landscape, north_region_coords, target_terrain=4)

    # 2) 南部草原評分
    south_region_coords = (2 * rows // 3, rows, 0, cols)
    south_match_score = calculate_region_match(landscape, south_region_coords, target_terrain=1)

    # 3) 河流「足夠長」評分 (有就 1, 沒有就 0)
    river_connectivity_score = calculate_river_connectivity(landscape, river_type=0, min_length=7)

    # 簡單加權
    total_fitness = (
        0.4 * north_match_score +
        0.4 * south_match_score +
        0.2 * river_connectivity_score
    )

    return total_fitness

def crossover(parent1, parent2):
    """遮罩交配: 隨機將 parent1 或 parent2 的像素拿來生成 child。"""
    mask = np.random.randint(0, 2, size=parent1.shape).astype(bool)
    child = np.where(mask, parent1, parent2)
    return child

def mutate(landscape, mutation_rate=0.01, terrain_types=5):
    """隨機突變: 以 mutation_rate 的機率，將像素替換為隨機地形。"""
    mutation_mask = np.random.rand(*landscape.shape) < mutation_rate
    new_values = np.random.randint(0, terrain_types, size=landscape.shape)
    landscape[mutation_mask] = new_values[mutation_mask]
    return landscape

def initialize_population(pop_size, grid_size, terrain_types):
    """初始化種群: 生成 pop_size 張隨機地形圖。"""
    return [generate_landscape(grid_size, terrain_types) for _ in range(pop_size)]

def evolve_population(population, fitnesses, terrain_types, mutation_rate):
    """進化過程: 選擇、交配 (crossover) 及突變 (mutation)。"""
    # 1) 根據適應度，挑選前 50% 個體 (排序後取前半)
    sorted_indices = np.argsort(fitnesses)[::-1]  
    top_half = [population[i] for i in sorted_indices[:len(population) // 2]]

    # 2) 進行交配 + 變異，生成新一代
    new_population = []
    while len(new_population) < len(population):
        parents = np.random.choice(len(top_half), size=2, replace=False)
        parent1, parent2 = top_half[parents[0]], top_half[parents[1]]
        child = crossover(parent1, parent2)
        child = mutate(child, mutation_rate, terrain_types)
        new_population.append(child)

    return new_population

def main_evolution(
    output_folder='output',
    num_generations=300,      # 減少迭代次數做測試
    pop_size=1000,             # 可以加大種群以測試
    grid_size=(50, 50),
    terrain_types=5,
    mutation_rate=0.02        # 稍微提高突變率看效果
):
    """透過簡單演化算法，不斷優化地形。"""
    os.makedirs(output_folder, exist_ok=True)

    # 初始化種群
    population = initialize_population(pop_size, grid_size, terrain_types)

    for generation in range(num_generations):
        # 計算適應度
        fitnesses = [fitness_function(ind, terrain_types) for ind in population]
        best_fitness = max(fitnesses)
        print(f"Generation {generation + 1}: Best Fitness = {best_fitness:.3f}")

        # 若進到最後幾代，存下最優地形檢查
        if generation >= num_generations - 10:
            best_index = np.argmax(fitnesses)
            best_landscape = population[best_index]
            filename = os.path.join(
                output_folder,
                f'best_landscape_gen_{generation+1}_fitness_{fitnesses[best_index]:.3f}.png'
            )
            visualize_landscape(best_landscape, filename)

        # 進化到下一代
        population = evolve_population(population, fitnesses, terrain_types, mutation_rate)

    print("Evolution Complete!")

if __name__ == '__main__':
    main_evolution()
